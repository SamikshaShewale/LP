{
 "cells": [
  {
   "cell_type": "code",
   "execution_count": 9,
   "id": "f842566b",
   "metadata": {},
   "outputs": [
    {
     "name": "stdout",
     "output_type": "stream",
     "text": [
      "Enter a message: hello hello\n",
      "Encrypted Message: e llhoholle_\n",
      "Decrypted Message: hello hello\n"
     ]
    }
   ],
   "source": [
    "import math\n",
    "\n",
    "key = \"HACK\"\n",
    "\n",
    "# Encryption\n",
    "def encryptMessage(msg):\n",
    "    cipher = \"\"\n",
    "    k_indx = 0\n",
    "    msg_len = float(len(msg))  # Calculate the length of the message\n",
    "    msg_lst = list(msg)  # Convert the message string to a list of characters\n",
    "    key_lst = sorted(list(key))  # Convert the key string to a sorted list of characters\n",
    "    col = len(key)  # Get the number of columns in the encryption matrix\n",
    "    row = int(math.ceil(msg_len / col))  # Calculate the number of rows needed in the encryption matrix\n",
    "    fill_null = int((row * col) - msg_len)  # Calculate the number of null characters needed to fill the matrix\n",
    "    msg_lst.extend('_' * fill_null)  # Extend the message list with null characters to fill the matrix completely\n",
    "    \n",
    "    # Create the encryption matrix by splitting the message list into rows of length 'col'\n",
    "    matrix = [msg_lst[i: i + col] for i in range(0, len(msg_lst), col)]\n",
    "\n",
    "    # Iterate through each column of the matrix using the sorted key\n",
    "    for _ in range(col):\n",
    "        curr_idx = key.index(key_lst[k_indx])  # Get the current index based on the sorted key\n",
    "        # Append characters from the current column to the cipher string\n",
    "        cipher += ''.join([row[curr_idx] for row in matrix])\n",
    "        k_indx = (k_indx + 1) % col  # Move to the next column index\n",
    "\n",
    "    return cipher\n",
    "\n",
    "# Decryption\n",
    "def decryptMessage(cipher):\n",
    "    msg = \"\"\n",
    "    k_indx = 0\n",
    "    msg_indx = 0\n",
    "    msg_len = float(len(cipher))  # Calculate the length of the cipher\n",
    "    msg_lst = list(cipher)  # Convert the cipher string to a list of characters\n",
    "    col = len(key)  # Get the number of columns in the encryption matrix\n",
    "    row = int(math.ceil(msg_len / col))  # Calculate the number of rows in the encryption matrix\n",
    "    key_lst = sorted(list(key))  # Convert the key string to a sorted list of characters\n",
    "\n",
    "    dec_cipher = []\n",
    "    for _ in range(row):\n",
    "        dec_cipher.append([None] * col)  # Create a matrix to hold the decrypted characters\n",
    "\n",
    "    # Iterate through each column of the matrix using the sorted key\n",
    "    for _ in range(col):\n",
    "        curr_idx = key.index(key_lst[k_indx])  # Get the current index based on the sorted key\n",
    "        for j in range(row):\n",
    "            dec_cipher[j][curr_idx] = msg_lst[msg_indx]  # Assign the cipher character to the corresponding position in the matrix\n",
    "            msg_indx += 1\n",
    "        k_indx = (k_indx + 1) % col  # Move to the next column index\n",
    "\n",
    "    try:\n",
    "        msg = ''.join(sum(dec_cipher, []))  # Flatten the matrix and join the characters to form the decrypted message\n",
    "    except TypeError:\n",
    "        raise TypeError(\"This program cannot handle repeating words.\")\n",
    "\n",
    "    null_count = msg.count('_')  # Count the number of null characters\n",
    "    if null_count > 0:\n",
    "        return msg[:-null_count]  # Remove any trailing null characters\n",
    "\n",
    "    return msg\n",
    "\n",
    "message = input(\"Enter a message: \")\n",
    "encrypted_message = encryptMessage(message)\n",
    "decrypted_message = decryptMessage(encrypted_message)\n",
    "\n",
    "print(\"Encrypted Message:\", encrypted_message)\n",
    "print(\"Decrypted Message:\", decrypted_message)\n"
   ]
  },
  {
   "cell_type": "code",
   "execution_count": null,
   "id": "83395697",
   "metadata": {},
   "outputs": [],
   "source": []
  }
 ],
 "metadata": {
  "kernelspec": {
   "display_name": "Python 3 (ipykernel)",
   "language": "python",
   "name": "python3"
  },
  "language_info": {
   "codemirror_mode": {
    "name": "ipython",
    "version": 3
   },
   "file_extension": ".py",
   "mimetype": "text/x-python",
   "name": "python",
   "nbconvert_exporter": "python",
   "pygments_lexer": "ipython3",
   "version": "3.10.4"
  }
 },
 "nbformat": 4,
 "nbformat_minor": 5
}
